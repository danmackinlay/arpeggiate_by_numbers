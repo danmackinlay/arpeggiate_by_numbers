{
 "cells": [
  {
   "cell_type": "code",
   "execution_count": 1,
   "metadata": {
    "collapsed": true
   },
   "outputs": [],
   "source": [
    "%matplotlib inline"
   ]
  },
  {
   "cell_type": "code",
   "execution_count": 2,
   "metadata": {
    "collapsed": false
   },
   "outputs": [],
   "source": [
    "import numpy as np\n",
    "import scipy as sp\n",
    "import scipy.ndimage as ndimage\n",
    "import scipy.signal as signal\n",
    "import pandas as pd\n",
    "import matplotlib.pylab as plt\n",
    "import seaborn as sns\n",
    "import itertools\n",
    "import random"
   ]
  },
  {
   "cell_type": "code",
   "execution_count": 3,
   "metadata": {
    "collapsed": false
   },
   "outputs": [],
   "source": [
    "import fileio\n",
    "import fit"
   ]
  },
  {
   "cell_type": "code",
   "execution_count": 4,
   "metadata": {
    "collapsed": false
   },
   "outputs": [],
   "source": [
    "reload(fileio);reload(fit)\n",
    "song = fit.quantized_song(fileio.get_one_song())\n",
    "\n"
   ]
  },
  {
   "cell_type": "code",
   "execution_count": 5,
   "metadata": {
    "collapsed": false,
    "scrolled": false
   },
   "outputs": [],
   "source": [
    "def histories(song,\n",
    "        quantum=0.25,\n",
    "        n_pitchclasses=12,\n",
    "        idx=57, #arbitrary\n",
    "        horizon=32,\n",
    "        #offset=3,\n",
    "        ):\n",
    "    \"\"\"Return the del-t, del-p, n tuples\n",
    "    (0,0,n) is the result\n",
    "    every result has `n_pitchclasses` different interpretations,\n",
    "    for each of `n_pitchclasses` different orders in this step.\n",
    "    We want to keep the relative addresses the same,\n",
    "    so we re-interpret by masking some of the current row.\n",
    "    \"\"\"\n",
    "    all_steps = song.index.get_level_values(0)\n",
    "    mask = (all_steps<=idx) & (all_steps>=(idx-horizon))\n",
    "    mysteps = song.iloc[mask,:]\n",
    "    # for idx, step_count in mysteps.iterrows():\n",
    "#     now = int(idx[0])\n",
    "#     now_t = step.time\n",
    "#     here = int(idx[1])\n",
    "#     hist = song[(song.time>=(now_t-horizon))&(song.time<=(now_t))]\n",
    "#     hist[\"p\"] = np.mod(hist.index.get_level_values(1), n_halfsteps)\n",
    "#     hist[\"age\"] = now_t - hist[\"time\"]\n",
    "#     del(hist[\"time\"])\n",
    "#     print idx, (here, now, now_t)\n",
    "#     print step\n",
    "#     print hist\n",
    "    return mysteps\n",
    "my=histories(song)"
   ]
  },
  {
   "cell_type": "code",
   "execution_count": 22,
   "metadata": {
    "collapsed": false
   },
   "outputs": [],
   "source": [
    "influence_arr = None\n",
    "obs = None\n",
    "hidden_sigs = None\n",
    "\n",
    "def co_occurrences(song, n_pitchclasses=12):\n",
    "    \"\"\"\n",
    "    My hypothesis is that there is a single kernel shape,\n",
    "    and it is combined in 12 unobserved ratios.\n",
    "    This leaves 12 unknowns for each observation.\n",
    "    We can constrain the kernel by making it symmetrical, or mean 0 etc.\n",
    "    But how to constrain the observations? Sparsity? Why not? Why not fucking sparsity?\n",
    "    This is a simple optimization; cheap enough to do with non-SGD methods.\n",
    "    Could be done spectrally; let's go for basic for now.\n",
    "    Could do either log-rate, or linear-rate constrained non-neg.\n",
    "    Cross validation? How? The background is still unobserved.\n",
    "    We also wish to give them... per-step free mean rate? Per piece?\n",
    "    \"\"\"\n",
    "    global influence_arr, penalty, obs, hidden_sigs\n",
    "    penalty = 0.0\n",
    "    influence_arr = np.zeros(n_pitchclasses)\n",
    "    # signal.convolve2d version\n",
    "    #influence_arr[n_pitchclasses/2-1] = 1\n",
    "    # ndimage.filters.convolve version, slightly faster\n",
    "    influence_arr[n_pitchclasses/2] = 1\n",
    "    #Don't forget the offset. Global? Per step?\n",
    "    obs = song.n.values.reshape(-1, n_pitchclasses)\n",
    "    #trim null and singleton steps (destroys time info. Is that OK?)\n",
    "    obs = obs[obs.sum(1)>1,:]\n",
    "    hidden_sigs = np.copy(obs)\n",
    "    predicted_rates = ndimage.filters.convolve(hidden_sigs, influence_arr.reshape(1,-1), mode=\"wrap\")\n",
    "    return None\n",
    "\n",
    "co_occurrences(song) "
   ]
  },
  {
   "cell_type": "code",
   "execution_count": 23,
   "metadata": {
    "collapsed": false
   },
   "outputs": [
    {
     "data": {
      "image/png": "[encoded data removed]",
      "text/plain": [
       "<matplotlib.figure.Figure at 0x116f70510>"
      ]
     },
     "metadata": {},
     "output_type": "display_data"
    }
   ],
   "source": [
    "with sns.axes_style(\"white\"):\n",
    "    plt.imshow(ndimage.filters.convolve(obs, influence_arr.reshape(1,-1), mode=\"wrap\")[:50,:], interpolation='nearest')"
   ]
  },
  {
   "cell_type": "code",
   "execution_count": 24,
   "metadata": {
    "collapsed": false
   },
   "outputs": [
    {
     "data": {
      "image/png": "[encoded data removed]",
      "text/plain": [
       "<matplotlib.figure.Figure at 0x11728fa10>"
      ]
     },
     "metadata": {},
     "output_type": "display_data"
    }
   ],
   "source": [
    "with sns.axes_style(\"white\"):\n",
    "    plt.imshow(signal.convolve2d(obs, influence_arr.reshape(1,-1), mode=\"same\", boundary=\"wrap\")[:50,:], interpolation='nearest')"
   ]
  },
  {
   "cell_type": "code",
   "execution_count": 25,
   "metadata": {
    "collapsed": false
   },
   "outputs": [
    {
     "data": {
      "image/png": "[encoded data removed]",
      "text/plain": [
       "<matplotlib.figure.Figure at 0x117248690>"
      ]
     },
     "metadata": {},
     "output_type": "display_data"
    }
   ],
   "source": [
    "with sns.axes_style(\"white\"):\n",
    "    plt.imshow(obs[:50,:], interpolation='nearest')"
   ]
  },
  {
   "cell_type": "code",
   "execution_count": 21,
   "metadata": {
    "collapsed": false
   },
   "outputs": [
    {
     "name": "stdout",
     "output_type": "stream",
     "text": [
      "1000 loops, best of 3: 384 µs per loop\n"
     ]
    }
   ],
   "source": [
    "%%timeit\n",
    "signal.convolve2d(obs, influence_arr.reshape(1,-1), mode=\"same\", boundary=\"wrap\")"
   ]
  },
  {
   "cell_type": "code",
   "execution_count": 20,
   "metadata": {
    "collapsed": false
   },
   "outputs": [
    {
     "name": "stdout",
     "output_type": "stream",
     "text": [
      "10000 loops, best of 3: 75.3 µs per loop\n"
     ]
    }
   ],
   "source": [
    "%%timeit\n",
    "ndimage.filters.convolve(obs, influence_arr.reshape(1,-1), mode=\"wrap\")"
   ]
  },
  {
   "cell_type": "code",
   "execution_count": 26,
   "metadata": {
    "collapsed": true
   },
   "outputs": [],
   "source": [
    "np.copy?"
   ]
  },
  {
   "cell_type": "code",
   "execution_count": null,
   "metadata": {
    "collapsed": true
   },
   "outputs": [],
   "source": []
  }
 ],
 "metadata": {
  "kernelspec": {
   "display_name": "Python 2",
   "language": "python",
   "name": "python2"
  },
  "language_info": {
   "codemirror_mode": {
    "name": "ipython",
    "version": 2
   },
   "file_extension": ".py",
   "mimetype": "text/x-python",
   "name": "python",
   "nbconvert_exporter": "python",
   "pygments_lexer": "ipython2",
   "version": "2.7.9"
  }
 },
 "nbformat": 4,
 "nbformat_minor": 0
}
