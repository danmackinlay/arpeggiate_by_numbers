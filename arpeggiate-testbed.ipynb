{
 "cells": [
  {
   "cell_type": "code",
   "execution_count": 1,
   "metadata": {
    "collapsed": false
   },
   "outputs": [],
   "source": [
    "#%matplotlib inline\n",
    "#%matplotlib qt\n",
    "#%matplotlib tk\n",
    "%matplotlib osx"
   ]
  },
  {
   "cell_type": "code",
   "execution_count": 2,
   "metadata": {
    "collapsed": true
   },
   "outputs": [],
   "source": [
    "import numpy as np\n",
    "import scipy as sp\n",
    "import scipy.ndimage as ndimage\n",
    "import scipy.signal as signal\n",
    "import pandas as pd\n",
    "import matplotlib.pylab as plt\n",
    "import seaborn as sns\n",
    "import itertools\n",
    "import random\n",
    "import math\n",
    "import numba\n",
    "from sklearn.preprocessing import StandardScaler\n",
    "from scipy.optimize import minimize, approx_fprime, check_grad\n"
   ]
  },
  {
   "cell_type": "code",
   "execution_count": 3,
   "metadata": {
    "collapsed": true
   },
   "outputs": [],
   "source": [
    "np.set_printoptions(edgeitems=25, linewidth=100) "
   ]
  },
  {
   "cell_type": "code",
   "execution_count": 4,
   "metadata": {
    "collapsed": false,
    "scrolled": false
   },
   "outputs": [
    {
     "data": {
      "text/plain": [
       "<module 'fit' from 'fit.pyc'>"
      ]
     },
     "execution_count": 4,
     "metadata": {},
     "output_type": "execute_result"
    }
   ],
   "source": [
    "import fit;reload(fit)"
   ]
  },
  {
   "cell_type": "code",
   "execution_count": null,
   "metadata": {
    "collapsed": false,
    "scrolled": false
   },
   "outputs": [],
   "source": [
    "import fit; reload(fit)\n",
    "t=fit.test_grad_loglin(n_params=54, n_trials=200, n_nonzero=20, mean=0.5, norm_order=2)\n",
    "here = t['theta']+0.1*t['rand_vec']()\n",
    "res = fit.coord_desc_reg_path(t['est'],\n",
    "    debug=True,\n",
    "    progress=True,\n",
    "    norm_order=1,\n",
    "    update_iter=3,\n",
    "    stoch_coord=False,\n",
    "    n_penalties=48,\n",
    "    update_offset=True,\n",
    ")"
   ]
  },
  {
   "cell_type": "code",
   "execution_count": null,
   "metadata": {
    "collapsed": false,
    "scrolled": false
   },
   "outputs": [],
   "source": [
    "plt.semilogx(res['pen_params'],res['theta_hat_sc_path']);"
   ]
  },
  {
   "cell_type": "code",
   "execution_count": 8,
   "metadata": {
    "collapsed": false
   },
   "outputs": [
    {
     "data": {
      "text/plain": [
       "((48,), (48, 54))"
      ]
     },
     "execution_count": 8,
     "metadata": {},
     "output_type": "execute_result"
    }
   ],
   "source": [
    "res['pen_params'].shape, res['theta_hat_sc_path'].shape"
   ]
  },
  {
   "cell_type": "code",
   "execution_count": 47,
   "metadata": {
    "collapsed": false
   },
   "outputs": [
    {
     "data": {
      "text/plain": [
       "[<matplotlib.lines.Line2D at 0x127ee8e50>]"
      ]
     },
     "execution_count": 47,
     "metadata": {},
     "output_type": "execute_result"
    }
   ],
   "source": [
    "fig, axes = plt.subplots(6,sharex=True)\n",
    "ax=axes[0]\n",
    "ax.set_title('f')\n",
    "ax.plot(res['thetas'], res['fs'])\n",
    "ax=axes[1]\n",
    "ax.set_title('d_t')\n",
    "ax.plot(res['thetas'], res['d_ts'])\n",
    "ax=axes[2]\n",
    "ax.set_title('dd_t')\n",
    "ax.plot(res['thetas'], res['dd_ts'])\n",
    "ax=axes[3]\n",
    "ax.set_title('d_l')\n",
    "ax.plot(res['thetas'], res['d_ls'])\n",
    "ax=axes[4]\n",
    "ax.set_title('dd_l')\n",
    "ax.plot(res['thetas'], res['dd_ls'])\n",
    "ax=axes[5]\n",
    "ax.set_title('d_p')\n",
    "ax.plot(res['thetas'], res['d_ps'])\n"
   ]
  },
  {
   "cell_type": "code",
   "execution_count": 5,
   "metadata": {
    "collapsed": false
   },
   "outputs": [
    {
     "data": {
      "text/plain": [
       "array([0, 1])"
      ]
     },
     "execution_count": 5,
     "metadata": {},
     "output_type": "execute_result"
    }
   ],
   "source": [
    "np.array([0,1,2])[:2]"
   ]
  },
  {
   "cell_type": "code",
   "execution_count": null,
   "metadata": {
    "collapsed": false
   },
   "outputs": [],
   "source": [
    "res.keys()"
   ]
  },
  {
   "cell_type": "code",
   "execution_count": null,
   "metadata": {
    "collapsed": false
   },
   "outputs": [],
   "source": [
    "#### PENALTY\n",
    "for penalty in [0, 1, 1e6]:\n",
    "    print penalty, t['est'].pen(here, penalty)\n",
    "    print approx_fprime(here, t['est'].pen, 1e-6, penalty)\n",
    "    print t['est'].d_pen(here, pen_param=penalty)"
   ]
  },
  {
   "cell_type": "code",
   "execution_count": null,
   "metadata": {
    "collapsed": false
   },
   "outputs": [],
   "source": [
    "#### PENALTY AT ZERO\n",
    "for penalty in [0, 1, 1e6]:\n",
    "    print penalty, t['est'].pen(here*0, penalty)\n",
    "    print approx_fprime(here*0, t['est'].pen, 1e-6, penalty)\n",
    "    print t['est'].d_pen(here*0, pen_param=penalty)"
   ]
  },
  {
   "cell_type": "code",
   "execution_count": null,
   "metadata": {
    "collapsed": false
   },
   "outputs": [],
   "source": [
    "#### TOTAL LOSS\n",
    "for penalty in [0, 1, 1e6]:\n",
    "    print penalty, t['est'].total_loss(here)\n",
    "    print approx_fprime(here, t['est'].total_loss, 1e-6, penalty)\n",
    "    print t['est'].d_total_loss(here, pen_param=penalty)"
   ]
  },
  {
   "cell_type": "code",
   "execution_count": null,
   "metadata": {
    "collapsed": false
   },
   "outputs": [],
   "source": [
    "#### BASE LOSS\n",
    "for penalty in [0, 1, 1e6]:\n",
    "    print penalty, t['est'].base_loss(here)\n",
    "    print approx_fprime(here, t['est'].base_loss, 1e-6, penalty)\n",
    "    print t['est'].d_base_loss(here, pen_param=penalty)"
   ]
  },
  {
   "cell_type": "code",
   "execution_count": 41,
   "metadata": {
    "collapsed": false
   },
   "outputs": [
    {
     "data": {
      "text/plain": [
       "40.118133134892872"
      ]
     },
     "execution_count": 41,
     "metadata": {},
     "output_type": "execute_result"
    }
   ],
   "source": [
    "t['est'].pen(t['theta']*0.1, pen_param=1000)"
   ]
  },
  {
   "cell_type": "code",
   "execution_count": 11,
   "metadata": {
    "collapsed": false
   },
   "outputs": [
    {
     "data": {
      "text/plain": [
       "(48, 54)"
      ]
     },
     "execution_count": 11,
     "metadata": {},
     "output_type": "execute_result"
    }
   ],
   "source": [
    "res['theta_hat_sc_path'].shape"
   ]
  },
  {
   "cell_type": "code",
   "execution_count": null,
   "metadata": {
    "collapsed": false,
    "scrolled": false
   },
   "outputs": [],
   "source": [
    "t['lambdas']"
   ]
  },
  {
   "cell_type": "code",
   "execution_count": null,
   "metadata": {
    "collapsed": false
   },
   "outputs": [],
   "source": [
    "approx_fprime(here, t['_f_total'], 1e-6, 1000), t['_jac_total'](here, penalty=1000)"
   ]
  },
  {
   "cell_type": "code",
   "execution_count": null,
   "metadata": {
    "collapsed": false
   },
   "outputs": [],
   "source": [
    "minimize(fun=t['_f_total'], x0=here, jac=False, args=(0,))"
   ]
  },
  {
   "cell_type": "code",
   "execution_count": 75,
   "metadata": {
    "collapsed": false
   },
   "outputs": [],
   "source": [
    "scaler = StandardScaler()\n",
    "fields0 = scaler.fit_transform(field_predictor_list[0])\n",
    "fields1 = scaler.fit_transform(field_predictor_list[1])\n",
    "with sns.axes_style(\"white\"):\n",
    "    fig, axes = plt.subplots(2,1)\n",
    "    axes[0].imshow(fields0[-400:,:], interpolation='nearest')\n",
    "    axes[1].imshow(fields1[-400:,:], interpolation='nearest')\n",
    "    plt.show()"
   ]
  },
  {
   "cell_type": "code",
   "execution_count": 72,
   "metadata": {
    "collapsed": false
   },
   "outputs": [],
   "source": [
    "with sns.axes_style(\"white\"):\n",
    "    fig, axes = plt.subplots(2,1)\n",
    "    axes[0].imshow(field_predictor_list[0][-100:,200:500], interpolation='nearest')\n",
    "    axes[1].imshow(field_predictor_list[1][-100:,200:500], interpolation='nearest')\n",
    "    plt.show()"
   ]
  },
  {
   "cell_type": "code",
   "execution_count": null,
   "metadata": {
    "collapsed": false
   },
   "outputs": [],
   "source": [
    "with sns.axes_style(\"white\"):\n",
    "    fig, ax = plt.subplots(1,1)\n",
    "    ax.imshow(field_predictor_list[1][-100:,200:500], interpolation='nearest')\n",
    "    plt.show()"
   ]
  },
  {
   "cell_type": "code",
   "execution_count": 74,
   "metadata": {
    "collapsed": false
   },
   "outputs": [
    {
     "data": {
      "text/plain": [
       "(4.6724524166199544, 4.6724524166199535, 4.6724524166199597)"
      ]
     },
     "execution_count": 74,
     "metadata": {},
     "output_type": "execute_result"
    }
   ],
   "source": [
    "field_predictor_list[0].mean(), field_predictor_list[1].mean(), field_predictor_list[2].mean()"
   ]
  },
  {
   "cell_type": "code",
   "execution_count": 166,
   "metadata": {
    "collapsed": false
   },
   "outputs": [],
   "source": [
    "with sns.axes_style(\"white\"):\n",
    "    fig, ax = plt.subplots(1,1)\n",
    "    ax.imshow(responses[-500:,:], interpolation='nearest')\n",
    "    plt.show()"
   ]
  },
  {
   "cell_type": "code",
   "execution_count": null,
   "metadata": {
    "collapsed": true
   },
   "outputs": [],
   "source": []
  }
 ],
 "metadata": {
  "kernelspec": {
   "display_name": "Python 2",
   "language": "python",
   "name": "python2"
  },
  "language_info": {
   "codemirror_mode": {
    "name": "ipython",
    "version": 2
   },
   "file_extension": ".py",
   "mimetype": "text/x-python",
   "name": "python",
   "nbconvert_exporter": "python",
   "pygments_lexer": "ipython2",
   "version": "2.7.9"
  }
 },
 "nbformat": 4,
 "nbformat_minor": 0
}
