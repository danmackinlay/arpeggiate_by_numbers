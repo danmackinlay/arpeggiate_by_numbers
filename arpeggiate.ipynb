{
 "cells": [
  {
   "cell_type": "code",
   "execution_count": 2,
   "metadata": {
    "collapsed": false
   },
   "outputs": [],
   "source": [
    "#%matplotlib inline\n",
    "#%matplotlib qt\n",
    "#%matplotlib tk\n",
    "%matplotlib osx"
   ]
  },
  {
   "cell_type": "code",
   "execution_count": 3,
   "metadata": {
    "collapsed": false
   },
   "outputs": [],
   "source": [
    "import numpy as np\n",
    "import scipy as sp\n",
    "import scipy.ndimage as ndimage\n",
    "import scipy.signal as signal\n",
    "import pandas as pd\n",
    "import matplotlib.pylab as plt\n",
    "import seaborn as sns\n",
    "import itertools\n",
    "import random\n",
    "import math\n",
    "import numba\n",
    "from sklearn.preprocessing import StandardScaler"
   ]
  },
  {
   "cell_type": "code",
   "execution_count": 4,
   "metadata": {
    "collapsed": true
   },
   "outputs": [],
   "source": [
    "from scipy.optimize import minimize, approx_fprime, check_grad\n"
   ]
  },
  {
   "cell_type": "code",
   "execution_count": 5,
   "metadata": {
    "collapsed": true
   },
   "outputs": [],
   "source": [
    "np.set_printoptions(edgeitems=25, linewidth=100) "
   ]
  },
  {
   "cell_type": "code",
   "execution_count": 6,
   "metadata": {
    "collapsed": false
   },
   "outputs": [],
   "source": [
    "import fileio\n",
    "import massage"
   ]
  },
  {
   "cell_type": "code",
   "execution_count": 7,
   "metadata": {
    "collapsed": false
   },
   "outputs": [
    {
     "data": {
      "text/plain": [
       "<module 'fileio' from 'fileio.pyc'>"
      ]
     },
     "execution_count": 7,
     "metadata": {},
     "output_type": "execute_result"
    }
   ],
   "source": [
    "import config; reload(config)\n",
    "import fileio; reload(fileio)\n",
    "#fileio.encode_notes(verbose=True)"
   ]
  },
  {
   "cell_type": "code",
   "execution_count": 8,
   "metadata": {
    "collapsed": false
   },
   "outputs": [],
   "source": [
    "reload(fileio)\n",
    "reload(massage)\n",
    "song = massage.quantized_song(fileio.get_one_song())"
   ]
  },
  {
   "cell_type": "code",
   "execution_count": 8,
   "metadata": {
    "collapsed": false
   },
   "outputs": [
    {
     "data": {
      "text/plain": [
       "'s/WALLSTRT'"
      ]
     },
     "execution_count": 8,
     "metadata": {},
     "output_type": "execute_result"
    }
   ],
   "source": [
    "fileio.iter_evented_songs().next()[0]"
   ]
  },
  {
   "cell_type": "code",
   "execution_count": 9,
   "metadata": {
    "collapsed": false
   },
   "outputs": [],
   "source": [
    "reload(massage)\n",
    "#Note that the MIDI data is quantized to 16th notes (=0.25?) by default in music21\n",
    "field_predictor_list, response_list, field_pars = massage.all_base_features(song,\n",
    "    quantum=0.25,\n",
    "    n_pitchclasses=12,\n",
    "    frequencies=(0, 1.0/4, 1.0/3, 1.0/2, 2.0/3, 1.0, 4.0/3, 3.0/2, 2.0),\n",
    "    half_lives=(1, 2, 4, 8, 16)\n",
    ")"
   ]
  },
  {
   "cell_type": "code",
   "execution_count": 10,
   "metadata": {
    "collapsed": false,
    "scrolled": false
   },
   "outputs": [],
   "source": [
    "reload(massage)\n",
    "predictors, response = massage.as_trials(field_predictor_list, response_list)"
   ]
  },
  {
   "cell_type": "code",
   "execution_count": null,
   "metadata": {
    "collapsed": false,
    "scrolled": false
   },
   "outputs": [],
   "source": [
    "import fit; reload(fit)\n",
    "scaler = fit.PoissonLogScaler()\n",
    "predictors_sc = scaler.fit_transform(predictors)\n",
    "est = fit.ExpPoissonL1Est(predictors_sc, response)\n",
    "\n",
    "res = fit.coord_desc_reg_path(est,\n",
    "    #debug=True,\n",
    "    progress=True,\n",
    "    norm_order=1,\n",
    "    update_iter=2,\n",
    "    stoch_coord=False,\n",
    "    n_penalties=1024,\n",
    "    update_offset=True,\n",
    ")\n",
    "# fileio.saveobj(res, \"WALLSTRT\")\n"
   ]
  },
  {
   "cell_type": "code",
   "execution_count": 11,
   "metadata": {
    "collapsed": false
   },
   "outputs": [],
   "source": [
    "#fileio.saveobj(res, \"WALLSTRT3\")\n",
    "res=fileio.loadobj(\"WALLSTRT3\")\n"
   ]
  },
  {
   "cell_type": "code",
   "execution_count": null,
   "metadata": {
    "collapsed": false,
    "scrolled": false
   },
   "outputs": [],
   "source": [
    "import fit; reload(fit)\n",
    "scaler = fit.PoissonLogScaler()\n",
    "predictors_sc = scaler.fit_transform(predictors)\n",
    "est = fit.ExpPoissonL1Est(predictors_sc, response)\n",
    "\n",
    "res2 = fit.coord_desc_reg_path(est,\n",
    "    #debug=True,\n",
    "    progress=True,\n",
    "    norm_order=1,\n",
    "    update_iter=2,\n",
    "    stoch_coord=False,\n",
    "    n_penalties=256,\n",
    "    update_offset=True,\n",
    ")\n",
    "#fileio.saveobj(res2, \"WALLSTRT2\")\n"
   ]
  },
  {
   "cell_type": "code",
   "execution_count": 12,
   "metadata": {
    "collapsed": false
   },
   "outputs": [
    {
     "data": {
      "text/plain": [
       "(-1, 1)"
      ]
     },
     "execution_count": 12,
     "metadata": {},
     "output_type": "execute_result"
    }
   ],
   "source": [
    "_=plt.semilogx(res['pen_params'],res['theta_hat_sc_path']);\n",
    "plt.gca().set_yscale('symlog')\n",
    "plt.ylim((-1,1))"
   ]
  },
  {
   "cell_type": "code",
   "execution_count": 15,
   "metadata": {
    "collapsed": true
   },
   "outputs": [],
   "source": [
    "_=plt.semilogx(res['pen_params'],res['theta_hat_sc_path']);\n"
   ]
  },
  {
   "cell_type": "code",
   "execution_count": 19,
   "metadata": {
    "collapsed": false
   },
   "outputs": [
    {
     "data": {
      "text/plain": [
       "['theta_hat_sc_path',\n",
       " 'logliks_total',\n",
       " 'pen_params',\n",
       " 'logliks_base',\n",
       " 'n_nonzeros']"
      ]
     },
     "execution_count": 19,
     "metadata": {},
     "output_type": "execute_result"
    }
   ],
   "source": [
    "res.keys()"
   ]
  },
  {
   "cell_type": "code",
   "execution_count": 28,
   "metadata": {
    "collapsed": false
   },
   "outputs": [],
   "source": [
    "# AIC plot\n",
    "_=plt.semilogx(res['pen_params'],(res['n_nonzeros']-res['logliks_base'])*2)"
   ]
  },
  {
   "cell_type": "code",
   "execution_count": 29,
   "metadata": {
    "collapsed": true
   },
   "outputs": [],
   "source": [
    "# AICc plot\n",
    "_=plt.semilogx(res['pen_params'],(res['n_nonzeros']-res['logliks_base'])*2\n",
    "               + 2*res['n_nonzeros']*(res['n_nonzeros']+1)/(song.shape[0]-res['n_nonzeros']-1))\n"
   ]
  },
  {
   "cell_type": "code",
   "execution_count": 14,
   "metadata": {
    "collapsed": false
   },
   "outputs": [],
   "source": [
    "#fileio.saveobj(res, \"WALLSTRT\")\n",
    "#fileio.saveobj(res2, \"WALLSTRT2\")\n",
    "res2=fileio.loadobj(\"WALLSTRT2\")"
   ]
  },
  {
   "cell_type": "markdown",
   "metadata": {},
   "source": [
    "# predictor plotting"
   ]
  },
  {
   "cell_type": "code",
   "execution_count": 10,
   "metadata": {
    "collapsed": false
   },
   "outputs": [],
   "source": [
    "scaler = StandardScaler()\n",
    "fields0 = scaler.fit_transform(field_predictor_list[0])\n",
    "fields1 = scaler.fit_transform(field_predictor_list[1])\n",
    "with sns.axes_style(\"white\"):\n",
    "    fig, axes = plt.subplots(2,1)\n",
    "    axes[0].imshow(fields0[-400:,:], interpolation='nearest')\n",
    "    axes[1].imshow(fields1[-400:,:], interpolation='nearest')\n",
    "    plt.show()"
   ]
  },
  {
   "cell_type": "code",
   "execution_count": 72,
   "metadata": {
    "collapsed": false
   },
   "outputs": [],
   "source": [
    "with sns.axes_style(\"white\"):\n",
    "    fig, axes = plt.subplots(2,1)\n",
    "    axes[0].imshow(field_predictor_list[0][-100:,200:500], interpolation='nearest')\n",
    "    axes[1].imshow(field_predictor_list[1][-100:,200:500], interpolation='nearest')\n",
    "    plt.show()"
   ]
  },
  {
   "cell_type": "code",
   "execution_count": null,
   "metadata": {
    "collapsed": false
   },
   "outputs": [],
   "source": [
    "with sns.axes_style(\"white\"):\n",
    "    fig, ax = plt.subplots(1,1)\n",
    "    ax.imshow(field_predictor_list[1][-100:,200:500], interpolation='nearest')\n",
    "    plt.show()"
   ]
  },
  {
   "cell_type": "code",
   "execution_count": 74,
   "metadata": {
    "collapsed": false
   },
   "outputs": [
    {
     "data": {
      "text/plain": [
       "(4.6724524166199544, 4.6724524166199535, 4.6724524166199597)"
      ]
     },
     "execution_count": 74,
     "metadata": {},
     "output_type": "execute_result"
    }
   ],
   "source": [
    "field_predictor_list[0].mean(), field_predictor_list[1].mean(), field_predictor_list[2].mean()"
   ]
  },
  {
   "cell_type": "code",
   "execution_count": 166,
   "metadata": {
    "collapsed": false
   },
   "outputs": [],
   "source": [
    "with sns.axes_style(\"white\"):\n",
    "    fig, ax = plt.subplots(1,1)\n",
    "    ax.imshow(responses[-500:,:], interpolation='nearest')\n",
    "    plt.show()"
   ]
  },
  {
   "cell_type": "code",
   "execution_count": null,
   "metadata": {
    "collapsed": true
   },
   "outputs": [],
   "source": []
  }
 ],
 "metadata": {
  "kernelspec": {
   "display_name": "Python 2",
   "language": "python",
   "name": "python2"
  },
  "language_info": {
   "codemirror_mode": {
    "name": "ipython",
    "version": 2
   },
   "file_extension": ".py",
   "mimetype": "text/x-python",
   "name": "python",
   "nbconvert_exporter": "python",
   "pygments_lexer": "ipython2",
   "version": "2.7.10"
  }
 },
 "nbformat": 4,
 "nbformat_minor": 0
}
